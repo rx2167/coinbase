{
 "cells": [
  {
   "cell_type": "markdown",
   "metadata": {},
   "source": [
    "\n",
    "Coinbase Pro API Test\n",
    "The sandbox version of the coinbase Pro is at:\n",
    "\n",
    "https://public.sandbox.pro.coinbase.com\n",
    "\n",
    "Cbpro Python library repository:\n",
    "\n",
    "https://github.com/danpaquin/coinbasepro-python\n",
    "\n",
    "API url (sandbox):\n",
    "\n",
    "https://api-public.sandbox.pro.coinbase.com\n",
    "\n",
    "Websocket url (sandbox):\n",
    "\n",
    "wss://ws-feed-public.sandbox.pro.coinbase.com"
   ]
  },
  {
   "cell_type": "code",
   "execution_count": null,
   "metadata": {},
   "outputs": [],
   "source": [
    "import sys\n",
    "sys.version\n"
   ]
  },
  {
   "cell_type": "code",
   "execution_count": 1,
   "metadata": {},
   "outputs": [],
   "source": [
    "%config Completer.use_jedi = False       #without this line, autocomplete seemed to not be working, \n",
    "#so I am putting it here. source: https://stackoverflow.com/questions/40536560/ipython-and-jupyter-autocomplete-not-working"
   ]
  },
  {
   "cell_type": "code",
   "execution_count": 2,
   "metadata": {
    "scrolled": true
   },
   "outputs": [
    {
     "name": "stdout",
     "output_type": "stream",
     "text": [
      "cd66ce5a639f411d9052866646919394 x+zajwcASNpyIZUAPYUbDCzvyxXgz7xf5kRxseFLwdRhO1f4NXshoddKheMRSomH7W0dJUjGlbtt5pxAORYgRg== notSandbox\n"
     ]
    }
   ],
   "source": [
    "import pandas as pd\n",
    "import cbpro\n",
    "from configs import (api_secret,\n",
    "                              api_key, \n",
    "                              api_pass)\n",
    "print(api_key, api_secret, api_pass)"
   ]
  },
  {
   "cell_type": "markdown",
   "metadata": {},
   "source": [
    "# WebsocketClient Class\n",
    "Here we inherit from the WebsocketClient class and overload methods on_open(), on_message(), and on_close()"
   ]
  },
  {
   "cell_type": "code",
   "execution_count": null,
   "metadata": {},
   "outputs": [],
   "source": [
    "class TextWebsocketClient(cbpro.WebsocketClient):\n",
    "    def on_open(self):\n",
    "        self.url           = 'wss://ws-feed-public.sandbox.pro.coinbase.com'\n",
    "        self.message_count = 0\n",
    "    \n",
    "    def on_message(self,msg):\n",
    "        self.message_count += 1\n",
    "        msg_type = msg.get('type',None)\n",
    "        if msg_type == 'ticker':\n",
    "            time_val   = msg.get('time',('-'*27))\n",
    "            price_val  = msg.get('price',None)\n",
    "            if price_val is not None:\n",
    "                price_val = float(price_val)\n",
    "            product_id = msg.get('product_id',None)\n",
    "            \n",
    "            print(f\"{time_val:30} \\\n",
    "                {price_val:.3f} \\\n",
    "                {product_id}\\tchannel type:{msg_type}\")\n",
    "    \n",
    "    def on_close(self):\n",
    "        print(f\"<---Websocket connection closed--->\\n\\tTotal messages: {self.message_count}\")\n",
    "        "
   ]
  },
  {
   "cell_type": "code",
   "execution_count": null,
   "metadata": {},
   "outputs": [],
   "source": [
    "stream = TextWebsocketClient(products=['BTC-USD'],channels=['ticker'])\n",
    "stream.start()"
   ]
  },
  {
   "cell_type": "code",
   "execution_count": null,
   "metadata": {},
   "outputs": [],
   "source": [
    "stream.close()"
   ]
  },
  {
   "cell_type": "code",
   "execution_count": 30,
   "metadata": {},
   "outputs": [],
   "source": [
    "#url = 'https://api.pro.coinbase.com'\n",
    "\n",
    "url = 'https://api-public.sandbox.pro.coinbase.com'\n",
    "\n",
    "client = cbpro.AuthenticatedClient(\n",
    "    api_key,\n",
    "    api_secret,\n",
    "    api_pass, \n",
    "    api_url=url)"
   ]
  },
  {
   "cell_type": "code",
   "execution_count": 31,
   "metadata": {},
   "outputs": [],
   "source": [
    "accounts = client.get_accounts()\n"
   ]
  },
  {
   "cell_type": "code",
   "execution_count": 32,
   "metadata": {},
   "outputs": [
    {
     "name": "stdout",
     "output_type": "stream",
     "text": [
      "{'message': 'Invalid API Key'}\n"
     ]
    }
   ],
   "source": [
    "print(accounts)"
   ]
  },
  {
   "cell_type": "code",
   "execution_count": 22,
   "metadata": {},
   "outputs": [
    {
     "name": "stdout",
     "output_type": "stream",
     "text": [
      "047b04e7-6839-43e7-a1c0-54ae5bc6a477\n"
     ]
    }
   ],
   "source": [
    "for acc in accounts:\n",
    "    currency = acc.get('currency')\n",
    "    if currency=='BTC':\n",
    "        acc_id = acc.get('id')\n",
    "\n",
    "print(acc_id)\n"
   ]
  },
  {
   "cell_type": "code",
   "execution_count": 25,
   "metadata": {},
   "outputs": [
    {
     "name": "stdout",
     "output_type": "stream",
     "text": [
      "<generator object PublicClient._send_paginated_message at 0x0000019E62D3B740>\n"
     ]
    }
   ],
   "source": [
    "acc_history = client.get_account_history(acc_id)\n",
    "\n",
    "print(acc_history)"
   ]
  },
  {
   "cell_type": "code",
   "execution_count": 26,
   "metadata": {},
   "outputs": [],
   "source": [
    "import json\n",
    "\n",
    "for hist in acc_history:\n",
    "    print(json.dumps(hist,indent=1))"
   ]
  },
  {
   "cell_type": "code",
   "execution_count": 27,
   "metadata": {},
   "outputs": [
    {
     "data": {
      "text/plain": [
       "{'message': 'Insufficient funds'}"
      ]
     },
     "execution_count": 27,
     "metadata": {},
     "output_type": "execute_result"
    }
   ],
   "source": [
    "client.place_market_order(product_id='ADA-USD',side='buy',size=1)"
   ]
  },
  {
   "cell_type": "code",
   "execution_count": null,
   "metadata": {},
   "outputs": [],
   "source": []
  },
  {
   "cell_type": "code",
   "execution_count": 28,
   "metadata": {},
   "outputs": [
    {
     "name": "stdout",
     "output_type": "stream",
     "text": [
      "{'message': 'Forbidden'}\n"
     ]
    }
   ],
   "source": [
    "payment_methods = client.get_payment_methods()\n",
    "print(payment_methods)"
   ]
  },
  {
   "cell_type": "code",
   "execution_count": null,
   "metadata": {},
   "outputs": [],
   "source": [
    "for method in payment_methods:\n",
    "    currency  = method.get('currency',None)\n",
    "    if currency.upper() == 'USD':\n",
    "        method_id = method.get('id',None) \n",
    "    elif currency is None:\n",
    "        continue\n",
    "\n",
    "print(f\"Currency is `{currency}`\\n\")"
   ]
  },
  {
   "cell_type": "code",
   "execution_count": null,
   "metadata": {},
   "outputs": [],
   "source": [
    "client.deposit(\n",
    "    amount=30,\n",
    "    currency=currency,\n",
    "    payment_method_id=method_id\n",
    ")"
   ]
  }
 ],
 "metadata": {
  "kernelspec": {
   "display_name": "Python 3",
   "language": "python",
   "name": "python3"
  },
  "language_info": {
   "codemirror_mode": {
    "name": "ipython",
    "version": 3
   },
   "file_extension": ".py",
   "mimetype": "text/x-python",
   "name": "python",
   "nbconvert_exporter": "python",
   "pygments_lexer": "ipython3",
   "version": "3.8.8"
  }
 },
 "nbformat": 4,
 "nbformat_minor": 4
}
